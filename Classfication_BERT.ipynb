{
 "cells": [
  {
   "cell_type": "code",
   "execution_count": null,
   "id": "21f68833",
   "metadata": {},
   "outputs": [],
   "source": [
    "import pandas as pd\n",
    "import numpy as np\n",
    "import spacy\n",
    "import re\n",
    "\n",
    "from sklearn.feature_extraction.text import CountVectorizer\n",
    "import torch\n",
    "\n",
    "from datasets import load_dataset\n",
    "\n"
   ]
  },
  {
   "cell_type": "code",
   "execution_count": null,
   "id": "cfd83561",
   "metadata": {},
   "outputs": [],
   "source": [
    "from transformers import BertModel, BertConfig,BertTokenizer, BertForSequenceClassification,AdamW, get_linear_schedule_with_warmup\n",
    "from transformers.models.bert.modeling_bert import BertForPreTrainingOutput\n",
    "from torch.utils.data import TensorDataset, DataLoader, RandomSampler, SequentialSampler"
   ]
  },
  {
   "cell_type": "code",
   "execution_count": null,
   "id": "2488f0fa",
   "metadata": {},
   "outputs": [],
   "source": [
    "#configuration = BertConfig()\n",
    "#print(configuration)\n",
    "#model = BertModel(configuration)\n",
    "#print(model)\n",
    "#config = model.config    \n",
    "#print(config)"
   ]
  },
  {
   "cell_type": "code",
   "execution_count": null,
   "id": "6c17a7fa",
   "metadata": {},
   "outputs": [],
   "source": [
    "\n",
    "#dataset = load_dataset(\n",
    "#   'imdb')\n",
    "\n",
    "\n",
    "#dataset['train'].to_csv('imdb_train.csv')\n",
    "#dataset['test'].to_csv('imdb_test.csv')"
   ]
  },
  {
   "cell_type": "code",
   "execution_count": null,
   "id": "8a010a90",
   "metadata": {},
   "outputs": [],
   "source": [
    "#dataset['train'][0]"
   ]
  },
  {
   "cell_type": "code",
   "execution_count": null,
   "id": "43d28012",
   "metadata": {},
   "outputs": [],
   "source": [
    "df_train = pd.read_csv('imdb_train.csv')\n",
    "df_test = pd.read_csv('imdb_test.csv')\n",
    "\n",
    "print(df_train.head(10))\n",
    "print(df_test.head(10))"
   ]
  },
  {
   "cell_type": "code",
   "execution_count": null,
   "id": "0c09c0fd",
   "metadata": {},
   "outputs": [],
   "source": [
    "df_train['label'].value_counts()"
   ]
  },
  {
   "cell_type": "code",
   "execution_count": null,
   "id": "784a6c5d",
   "metadata": {},
   "outputs": [],
   "source": [
    "df_test['label'].value_counts()"
   ]
  },
  {
   "cell_type": "code",
   "execution_count": null,
   "id": "79916239",
   "metadata": {},
   "outputs": [],
   "source": [
    "df_train['text'].to_csv(\"df_train.txt\",index=False,header=True)\n",
    "df_test['text'].to_csv(\"df_test.txt\",index=False,header=True)\n"
   ]
  },
  {
   "cell_type": "code",
   "execution_count": null,
   "id": "48b4cf0d",
   "metadata": {
    "scrolled": true
   },
   "outputs": [],
   "source": [
    "train_input = pd.read_csv(\"df_train.txt\",delimiter=\"\\t\")\n",
    "print(\"Training Data.....\")\n",
    "print(len(train_input))\n",
    "print(train_input.iloc[0,:])\n",
    "\n",
    "test_input = pd.read_csv(\"df_test.txt\",delimiter=\"\\t\")\n",
    "print(\"Test Data.....\")\n",
    "print(len(test_input))\n",
    "print(test_input.iloc[0,:])"
   ]
  },
  {
   "cell_type": "code",
   "execution_count": null,
   "id": "b75d27ef",
   "metadata": {},
   "outputs": [],
   "source": [
    "vocab = BertForPreTrainingOutput()\n",
    "print(vocab)\n",
    "token = BertTokenizer(\"df_train.txt\")\n",
    "print(token)"
   ]
  },
  {
   "cell_type": "code",
   "execution_count": null,
   "id": "3320e4f4",
   "metadata": {},
   "outputs": [],
   "source": [
    "tokenizer = BertTokenizer.from_pretrained('bert-base-uncased')"
   ]
  },
  {
   "cell_type": "code",
   "execution_count": null,
   "id": "94359897",
   "metadata": {},
   "outputs": [],
   "source": [
    "def preprocessing_data(df_input): \n",
    "    \n",
    "    Ids = []\n",
    "    Masks = []\n",
    "\n",
    "    for i in range(len(df_input)):\n",
    "        \n",
    "        inputs = tokenizer.encode_plus(str(df_input.iloc[i,:]),add_special_tokens=True,\n",
    "                padding='max_length',\n",
    "                return_attention_mask=True,\n",
    "                return_tensors=\"pt\")\n",
    "        Ids.append(inputs.get('input_ids'))\n",
    "        Masks.append(inputs.get('attention_mask'))\n",
    "    \n",
    "    Ids = torch.cat(Ids)\n",
    "    Masks = torch.cat(Masks)\n",
    "    return Ids, Masks"
   ]
  },
  {
   "cell_type": "code",
   "execution_count": null,
   "id": "5da4a4bc",
   "metadata": {},
   "outputs": [],
   "source": [
    "##### As we have a huge input data, before training the entire data, we will take a sample of 100 records and train the model.\n",
    "#### This section will take first 100 records from train data and test the model and find the loss.\n",
    "#### Then predict label of 50 sample records from train data and learn the metrics. \n",
    "\n",
    "sample_input = train_input[0:100]\n",
    "sample_ids,sample_masks = preprocessing_data(sample_input)\n",
    "sample_label = torch.tensor(df_train['label'][0:100])\n",
    "\n",
    "batch_size = 32\n",
    "\n",
    "sample_data = TensorDataset(sample_ids, sample_masks, sample_label)\n",
    "sample_sampler = RandomSampler(sample_data)\n",
    "sample_dataloader = DataLoader(sample_data, sampler=sample_sampler, batch_size=batch_size)\n",
    "\n",
    "\n",
    "# Get the GPU device name.\n",
    "device = torch.device(\"cuda\")\n",
    "\n",
    "if torch.cuda.is_available():       \n",
    "    device = torch.device(\"cuda\")\n",
    "    print(f'There are {torch.cuda.device_count()} GPU(s) available.')\n",
    "    print('Device name:', torch.cuda.get_device_name(0))\n",
    "\n",
    "else:\n",
    "    print('No GPU available, using the CPU instead.')\n",
    "    device = torch.device(\"cpu\")\n",
    "\n",
    "\n",
    "for sample_step,sample_batch in enumerate(sample_dataloader):\n",
    "    \n",
    "    sample_input_ids = sample_batch[0].to(device)    \n",
    "    sample_atten_masks = sample_batch[1].to(device)\n",
    "    sample_labels = sample_batch[2].to(device)\n",
    "    \n",
    "    sample_model = BertForSequenceClassification.from_pretrained(\n",
    "            \"bert-base-uncased\", \n",
    "            num_labels = 2,                     \n",
    "            output_attentions = False, \n",
    "            output_hidden_states = False, \n",
    "                )\n",
    "    \n",
    "    sample_optimizer = AdamW(model.parameters(),\n",
    "                      lr=5e-5,    # Default learning rate\n",
    "                      eps=1e-8    # Default epsilon value\n",
    "                      )\n",
    "    sample_model.zero_grad()\n",
    "    \n",
    "    sample_logits = model(sample_input_ids,sample_atten_masks)\n",
    "    \n",
    "    print(sample_logits)"
   ]
  },
  {
   "cell_type": "code",
   "execution_count": null,
   "id": "500104a9",
   "metadata": {},
   "outputs": [],
   "source": [
    "## Get the Input Ids and Attention Masks for train and test data.\n",
    "\n",
    "train_ids, train_masks = preprocessing_data(train_input)\n",
    "test_ids, test_masks = preprocessing_data(test_input)"
   ]
  },
  {
   "cell_type": "code",
   "execution_count": null,
   "id": "47b64acb",
   "metadata": {},
   "outputs": [],
   "source": [
    "train_label = torch.tensor(df_train['label'])\n",
    "test_label  = torch.tensor(df_test['label'])\n"
   ]
  },
  {
   "cell_type": "code",
   "execution_count": null,
   "id": "37a6a24d",
   "metadata": {},
   "outputs": [],
   "source": [
    "## Create Train and Test dataset using DataLoader. \n",
    "\n",
    "batch_size = 32\n",
    "\n",
    "train_data = TensorDataset(train_ids, train_masks, train_label)\n",
    "train_sampler = RandomSampler(train_data)\n",
    "train_dataloader = DataLoader(train_data, sampler=train_sampler, batch_size=batch_size)\n",
    "\n",
    "\n",
    "test_data = TensorDataset(test_ids, test_masks, test_label)\n",
    "test_sampler = SequentialSampler(test_data)\n",
    "test_dataloader = DataLoader(test_data, sampler=test_sampler, batch_size=batch_size)"
   ]
  },
  {
   "cell_type": "code",
   "execution_count": null,
   "id": "ef379cef",
   "metadata": {},
   "outputs": [],
   "source": [
    "# Get the GPU device name.\n",
    "device = torch.device(\"cuda\")\n",
    "\n",
    "if torch.cuda.is_available():       \n",
    "    device = torch.device(\"cuda\")\n",
    "    print(f'There are {torch.cuda.device_count()} GPU(s) available.')\n",
    "    print('Device name:', torch.cuda.get_device_name(0))\n",
    "\n",
    "else:\n",
    "    print('No GPU available, using the CPU instead.')\n",
    "    device = torch.device(\"cpu\")\n",
    "\n",
    "\n",
    "for step,batch in enumerate(train_dataloader):\n",
    "    \n",
    "    input_ids = batch[0].to(device)    \n",
    "    atten_masks = batch[1].to(device)\n",
    "    labels = batch[2].to(device)\n",
    "    \n",
    "    model = BertForSequenceClassification.from_pretrained(\n",
    "            \"bert-base-uncased\", \n",
    "            num_labels = 2,                     \n",
    "            output_attentions = False, \n",
    "            output_hidden_states = False, \n",
    "                )\n",
    "    \n",
    "    optimizer = AdamW(model.parameters(),\n",
    "                      lr=5e-5,    # Default learning rate\n",
    "                      eps=1e-8    # Default epsilon value\n",
    "                      )\n",
    "    model.zero_grad()\n",
    "    \n",
    "    loss,logits = model(input_ids,atten_masks,labels=labels)\n",
    "    \n",
    "    print(logits)"
   ]
  },
  {
   "cell_type": "code",
   "execution_count": null,
   "id": "088bf992",
   "metadata": {},
   "outputs": [],
   "source": []
  }
 ],
 "metadata": {
  "kernelspec": {
   "display_name": "Python 3",
   "language": "python",
   "name": "python3"
  },
  "language_info": {
   "codemirror_mode": {
    "name": "ipython",
    "version": 3
   },
   "file_extension": ".py",
   "mimetype": "text/x-python",
   "name": "python",
   "nbconvert_exporter": "python",
   "pygments_lexer": "ipython3",
   "version": "3.8.8"
  }
 },
 "nbformat": 4,
 "nbformat_minor": 5
}
