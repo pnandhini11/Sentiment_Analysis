{
 "cells": [
  {
   "cell_type": "code",
   "execution_count": 15,
   "id": "21f68833",
   "metadata": {},
   "outputs": [],
   "source": [
    "import pandas as pd\n",
    "import numpy as np\n",
    "import spacy\n",
    "import re\n",
    "import random\n",
    "import time\n",
    "\n",
    "from sklearn.feature_extraction.text import CountVectorizer\n",
    "import torch\n",
    "\n",
    "from datasets import load_dataset\n",
    "\n"
   ]
  },
  {
   "cell_type": "code",
   "execution_count": 2,
   "id": "cfd83561",
   "metadata": {},
   "outputs": [],
   "source": [
    "from transformers import BertModel, BertConfig,BertTokenizer, BertForSequenceClassification,AdamW, get_linear_schedule_with_warmup\n",
    "from transformers.models.bert.modeling_bert import BertForPreTrainingOutput\n",
    "from torch.utils.data import TensorDataset, DataLoader, RandomSampler, SequentialSampler"
   ]
  },
  {
   "cell_type": "code",
   "execution_count": 3,
   "id": "2488f0fa",
   "metadata": {},
   "outputs": [],
   "source": [
    "#configuration = BertConfig()\n",
    "#print(configuration)\n",
    "#model = BertModel(configuration)\n",
    "#print(model)\n",
    "#config = model.config    \n",
    "#print(config)"
   ]
  },
  {
   "cell_type": "code",
   "execution_count": null,
   "id": "6c17a7fa",
   "metadata": {},
   "outputs": [],
   "source": [
    "\n",
    "#dataset = load_dataset(\n",
    "#   'imdb')\n",
    "\n",
    "\n",
    "#dataset['train'].to_csv('imdb_train.csv')\n",
    "#dataset['test'].to_csv('imdb_test.csv')"
   ]
  },
  {
   "cell_type": "code",
   "execution_count": null,
   "id": "8a010a90",
   "metadata": {},
   "outputs": [],
   "source": [
    "#dataset['train'][0]"
   ]
  },
  {
   "cell_type": "code",
   "execution_count": 4,
   "id": "43d28012",
   "metadata": {},
   "outputs": [
    {
     "name": "stdout",
     "output_type": "stream",
     "text": [
      "   Unnamed: 0                                               text  label\n",
      "0           0  I rented I AM CURIOUS-YELLOW from my video sto...      0\n",
      "1           1  \"I Am Curious: Yellow\" is a risible and preten...      0\n",
      "2           2  If only to avoid making this type of film in t...      0\n",
      "3           3  This film was probably inspired by Godard's Ma...      0\n",
      "4           4  Oh, brother...after hearing about this ridicul...      0\n",
      "5           5  I would put this at the top of my list of film...      0\n",
      "6           6  Whoever wrote the screenplay for this movie ob...      0\n",
      "7           7  When I first saw a glimpse of this movie, I qu...      0\n",
      "8           8  Who are these \"They\"- the actors? the filmmake...      0\n",
      "9           9  This is said to be a personal film for Peter B...      0\n",
      "   Unnamed: 0                                               text  label\n",
      "0           0  I love sci-fi and am willing to put up with a ...      0\n",
      "1           1  Worth the entertainment value of a rental, esp...      0\n",
      "2           2  its a totally average film with a few semi-alr...      0\n",
      "3           3  STAR RATING: ***** Saturday Night **** Friday ...      0\n",
      "4           4  First off let me say, If you haven't enjoyed a...      0\n",
      "5           5  I had high hopes for this one until they chang...      0\n",
      "6           6  Isaac Florentine has made some of the best wes...      0\n",
      "7           7  It actually pains me to say it, but this movie...      0\n",
      "8           8  Technically I'am a Van Damme Fan, or I was. th...      0\n",
      "9           9  Honestly awful film, bad editing, awful lighti...      0\n"
     ]
    }
   ],
   "source": [
    "df_train = pd.read_csv('imdb_train.csv')\n",
    "df_test = pd.read_csv('imdb_test.csv')\n",
    "\n",
    "print(df_train.head(10))\n",
    "print(df_test.head(10))"
   ]
  },
  {
   "cell_type": "code",
   "execution_count": 5,
   "id": "0c09c0fd",
   "metadata": {},
   "outputs": [
    {
     "data": {
      "text/plain": [
       "1    12500\n",
       "0    12500\n",
       "Name: label, dtype: int64"
      ]
     },
     "execution_count": 5,
     "metadata": {},
     "output_type": "execute_result"
    }
   ],
   "source": [
    "df_train['label'].value_counts()"
   ]
  },
  {
   "cell_type": "code",
   "execution_count": 6,
   "id": "784a6c5d",
   "metadata": {},
   "outputs": [
    {
     "data": {
      "text/plain": [
       "1    12500\n",
       "0    12500\n",
       "Name: label, dtype: int64"
      ]
     },
     "execution_count": 6,
     "metadata": {},
     "output_type": "execute_result"
    }
   ],
   "source": [
    "df_test['label'].value_counts()"
   ]
  },
  {
   "cell_type": "code",
   "execution_count": 7,
   "id": "79916239",
   "metadata": {},
   "outputs": [],
   "source": [
    "df_train['text'].to_csv(\"df_train.txt\",index=False,header=True)\n",
    "df_test['text'].to_csv(\"df_test.txt\",index=False,header=True)\n"
   ]
  },
  {
   "cell_type": "code",
   "execution_count": 7,
   "id": "48b4cf0d",
   "metadata": {
    "scrolled": true
   },
   "outputs": [
    {
     "name": "stdout",
     "output_type": "stream",
     "text": [
      "Training Data.....\n",
      "25000\n",
      "text    I rented I AM CURIOUS-YELLOW from my video sto...\n",
      "Name: 0, dtype: object\n",
      "Test Data.....\n",
      "25000\n",
      "text    I love sci-fi and am willing to put up with a ...\n",
      "Name: 0, dtype: object\n"
     ]
    }
   ],
   "source": [
    "train_input = pd.read_csv(\"df_train.txt\",delimiter=\"\\t\")\n",
    "print(\"Training Data.....\")\n",
    "print(len(train_input))\n",
    "print(train_input.iloc[0,:])\n",
    "\n",
    "test_input = pd.read_csv(\"df_test.txt\",delimiter=\"\\t\")\n",
    "print(\"Test Data.....\")\n",
    "print(len(test_input))\n",
    "print(test_input.iloc[0,:])"
   ]
  },
  {
   "cell_type": "code",
   "execution_count": 8,
   "id": "b75d27ef",
   "metadata": {},
   "outputs": [
    {
     "name": "stdout",
     "output_type": "stream",
     "text": [
      "BertForPreTrainingOutput(loss=None, prediction_logits=None, seq_relationship_logits=None, hidden_states=None, attentions=None)\n",
      "PreTrainedTokenizer(name_or_path='', vocab_size=24905, model_max_len=1000000000000000019884624838656, is_fast=False, padding_side='right', special_tokens={'unk_token': '[UNK]', 'sep_token': '[SEP]', 'pad_token': '[PAD]', 'cls_token': '[CLS]', 'mask_token': '[MASK]'})\n"
     ]
    }
   ],
   "source": [
    "vocab = BertForPreTrainingOutput()\n",
    "print(vocab)\n",
    "token = BertTokenizer(\"df_train.txt\")\n",
    "print(token)"
   ]
  },
  {
   "cell_type": "code",
   "execution_count": 9,
   "id": "3320e4f4",
   "metadata": {},
   "outputs": [],
   "source": [
    "tokenizer = BertTokenizer.from_pretrained('bert-base-uncased')"
   ]
  },
  {
   "cell_type": "code",
   "execution_count": 10,
   "id": "94359897",
   "metadata": {},
   "outputs": [],
   "source": [
    "def preprocessing_data(df_input): \n",
    "    \n",
    "    Ids = []\n",
    "    Masks = []\n",
    "\n",
    "    for i in range(len(df_input)):\n",
    "        \n",
    "        inputs = tokenizer.encode_plus(str(df_input.iloc[i,:]),add_special_tokens=True,\n",
    "                padding='max_length',\n",
    "                return_attention_mask=True,\n",
    "                return_tensors=\"pt\")\n",
    "        Ids.append(inputs.get('input_ids'))\n",
    "        Masks.append(inputs.get('attention_mask'))\n",
    "    \n",
    "    Ids = torch.cat(Ids)\n",
    "    Masks = torch.cat(Masks)\n",
    "    return Ids, Masks"
   ]
  },
  {
   "cell_type": "code",
   "execution_count": 23,
   "id": "95918f7c",
   "metadata": {},
   "outputs": [],
   "source": [
    "### Finding the loss based on the predicted label and target.\n",
    "\n",
    "def loss_function_1(logit,label):\n",
    "    predict = np.argmax(logit['logits'].detach().numpy(),axis=1).flatten()\n",
    "    labels = label.numpy()\n",
    "    loss = np.sum(predict==labels)/len(labels)\n",
    "    return loss\n",
    "\n",
    "def loss_function_2(logit,label):\n",
    "    func = torch.nn.CrossEntropyLoss()\n",
    "    loss = func(logit['logits'],label)\n",
    "    return(loss)\n",
    "    "
   ]
  },
  {
   "cell_type": "code",
   "execution_count": null,
   "id": "6184d193",
   "metadata": {},
   "outputs": [
    {
     "name": "stdout",
     "output_type": "stream",
     "text": [
      "No GPU available, using the CPU instead.\n",
      "epochs: 0 \n",
      "   \n"
     ]
    },
    {
     "name": "stderr",
     "output_type": "stream",
     "text": [
      "Some weights of the model checkpoint at bert-base-uncased were not used when initializing BertForSequenceClassification: ['cls.predictions.decoder.weight', 'cls.seq_relationship.weight', 'cls.predictions.transform.dense.weight', 'cls.predictions.transform.LayerNorm.weight', 'cls.predictions.transform.dense.bias', 'cls.predictions.bias', 'cls.seq_relationship.bias', 'cls.predictions.transform.LayerNorm.bias']\n",
      "- This IS expected if you are initializing BertForSequenceClassification from the checkpoint of a model trained on another task or with another architecture (e.g. initializing a BertForSequenceClassification model from a BertForPreTraining model).\n",
      "- This IS NOT expected if you are initializing BertForSequenceClassification from the checkpoint of a model that you expect to be exactly identical (initializing a BertForSequenceClassification model from a BertForSequenceClassification model).\n",
      "Some weights of BertForSequenceClassification were not initialized from the model checkpoint at bert-base-uncased and are newly initialized: ['classifier.weight', 'classifier.bias']\n",
      "You should probably TRAIN this model on a down-stream task to be able to use it for predictions and inference.\n"
     ]
    },
    {
     "name": "stdout",
     "output_type": "stream",
     "text": [
      "epochs: 1 \n",
      "   \n"
     ]
    },
    {
     "name": "stderr",
     "output_type": "stream",
     "text": [
      "Some weights of the model checkpoint at bert-base-uncased were not used when initializing BertForSequenceClassification: ['cls.predictions.decoder.weight', 'cls.seq_relationship.weight', 'cls.predictions.transform.dense.weight', 'cls.predictions.transform.LayerNorm.weight', 'cls.predictions.transform.dense.bias', 'cls.predictions.bias', 'cls.seq_relationship.bias', 'cls.predictions.transform.LayerNorm.bias']\n",
      "- This IS expected if you are initializing BertForSequenceClassification from the checkpoint of a model trained on another task or with another architecture (e.g. initializing a BertForSequenceClassification model from a BertForPreTraining model).\n",
      "- This IS NOT expected if you are initializing BertForSequenceClassification from the checkpoint of a model that you expect to be exactly identical (initializing a BertForSequenceClassification model from a BertForSequenceClassification model).\n",
      "Some weights of BertForSequenceClassification were not initialized from the model checkpoint at bert-base-uncased and are newly initialized: ['classifier.weight', 'classifier.bias']\n",
      "You should probably TRAIN this model on a down-stream task to be able to use it for predictions and inference.\n"
     ]
    }
   ],
   "source": [
    "##### As we have a huge input data, before training the entire data, we will take a sample of 100 records and train the model.\n",
    "#### This section will take first 100 records from train data and test the model and find the loss.\n",
    "#### Then predict label of 50 sample records from train data and learn the metrics. \n",
    "\n",
    "sample_input = train_input[0:100]\n",
    "sample_ids,sample_masks = preprocessing_data(sample_input)\n",
    "sample_label = torch.tensor(df_train['label'][0:100])\n",
    "\n",
    "batch_size = 32\n",
    "\n",
    "sample_data = TensorDataset(sample_ids, sample_masks, sample_label)\n",
    "sample_sampler = RandomSampler(sample_data)\n",
    "sample_dataloader = DataLoader(sample_data, sampler=sample_sampler, batch_size=batch_size)\n",
    "\n",
    "\n",
    "# Get the GPU device name.\n",
    "device = torch.device(\"cuda\")\n",
    "\n",
    "if torch.cuda.is_available():       \n",
    "    device = torch.device(\"cuda\")\n",
    "    print(f'There are {torch.cuda.device_count()} GPU(s) available.')\n",
    "    print('Device name:', torch.cuda.get_device_name(0))\n",
    "\n",
    "else:\n",
    "    print('No GPU available, using the CPU instead.')\n",
    "    device = torch.device(\"cpu\")\n",
    "\n",
    "\n",
    "loss_1 = 0\n",
    "loss_2 = 0\n",
    "sample_loss_1 = 0\n",
    "sample_loss_2 = 0\n",
    "\n",
    "epochs = 5\n",
    "\n",
    "\n",
    "seed_num = 42\n",
    "\n",
    "random.seed(seed_num)\n",
    "np.random.seed(seed_num)\n",
    "torch.manual_seed(seed_num)\n",
    "\n",
    "\n",
    "for epoch in range(0,epochs):\n",
    "    \n",
    "    initial_time = time.time()\n",
    "    \n",
    "    print(f\"epochs: {epoch} \")\n",
    "    print(\"   \")\n",
    "    \n",
    "    for sample_step,sample_batch in enumerate(sample_dataloader):\n",
    "        \n",
    "      \n",
    "        sample_input_ids = sample_batch[0].to(device)    \n",
    "        sample_atten_masks = sample_batch[1].to(device)\n",
    "        sample_labels = sample_batch[2].to(device)\n",
    "\n",
    "        sample_model = BertForSequenceClassification.from_pretrained(\n",
    "                \"bert-base-uncased\", \n",
    "                num_labels = 2,                     \n",
    "                output_attentions = False, \n",
    "                output_hidden_states = False, \n",
    "                    )\n",
    "        \n",
    "        total_steps = len(sample_dataloader) * epoch\n",
    "\n",
    "        sample_optimizer = AdamW(sample_model.parameters(),\n",
    "                          lr=5e-5,    # Default learning rate\n",
    "                          eps=1e-8    # Default epsilon value\n",
    "                          )\n",
    "        \n",
    "        sample_scheduler = get_linear_schedule_with_warmup(sample_optimizer,\n",
    "                                                num_warmup_steps=0, # Default value\n",
    "                                                num_training_steps=total_steps)\n",
    "        sample_model.zero_grad()\n",
    "\n",
    "        sample_logits = sample_model(sample_input_ids,sample_atten_masks)\n",
    "\n",
    "        loss_1 = loss_function_1(sample_logits,sample_labels)\n",
    "        sample_loss_1 += loss_1\n",
    "        loss_2 = loss_function_2(sample_logits,sample_labels)\n",
    "        sample_loss_2 += loss_2.item()\n",
    "\n",
    "        loss_2.backward()\n",
    "\n",
    "        avg_train_loss = sample_loss_2 / len(sample_dataloader)\n",
    "\n",
    "        torch.nn.utils.clip_grad_norm_(sample_model.parameters(), 1.0)\n",
    "\n",
    "        sample_optimizer.step()\n",
    "\n",
    "        sample_scheduler.step()\n",
    "        \n",
    "        final_time = time.time() - initial_time\n",
    "        \n",
    "        if (sample_step % 20 and step != 0):            \n",
    "                        \n",
    "            print(f\"step: {sample_step},  sample_batch: {sample_batch}, average_training_loss: {avg_train_loss}, time_taken: {final_time}\")\n",
    "\n"
   ]
  },
  {
   "cell_type": "code",
   "execution_count": null,
   "id": "500104a9",
   "metadata": {},
   "outputs": [],
   "source": [
    "## Get the Input Ids and Attention Masks for train and test data.\n",
    "\n",
    "train_ids, train_masks = preprocessing_data(train_input)\n",
    "test_ids, test_masks = preprocessing_data(test_input)"
   ]
  },
  {
   "cell_type": "code",
   "execution_count": null,
   "id": "47b64acb",
   "metadata": {},
   "outputs": [],
   "source": [
    "train_label = torch.tensor(df_train['label'])\n",
    "test_label  = torch.tensor(df_test['label'])\n"
   ]
  },
  {
   "cell_type": "code",
   "execution_count": null,
   "id": "37a6a24d",
   "metadata": {},
   "outputs": [],
   "source": [
    "## Create Train and Test dataset using DataLoader. \n",
    "\n",
    "batch_size = 32\n",
    "\n",
    "train_data = TensorDataset(train_ids, train_masks, train_label)\n",
    "train_sampler = RandomSampler(train_data)\n",
    "train_dataloader = DataLoader(train_data, sampler=train_sampler, batch_size=batch_size)\n",
    "\n",
    "\n",
    "test_data = TensorDataset(test_ids, test_masks, test_label)\n",
    "test_sampler = SequentialSampler(test_data)\n",
    "test_dataloader = DataLoader(test_data, sampler=test_sampler, batch_size=batch_size)"
   ]
  },
  {
   "cell_type": "code",
   "execution_count": null,
   "id": "ef379cef",
   "metadata": {},
   "outputs": [],
   "source": [
    "# Get the GPU device name.\n",
    "device = torch.device(\"cuda\")\n",
    "\n",
    "if torch.cuda.is_available():       \n",
    "    device = torch.device(\"cuda\")\n",
    "    print(f'There are {torch.cuda.device_count()} GPU(s) available.')\n",
    "    print('Device name:', torch.cuda.get_device_name(0))\n",
    "\n",
    "else:\n",
    "    print('No GPU available, using the CPU instead.')\n",
    "    device = torch.device(\"cpu\")\n",
    "\n",
    "\n",
    "for step,batch in enumerate(train_dataloader):\n",
    "    \n",
    "    input_ids = batch[0].to(device)    \n",
    "    atten_masks = batch[1].to(device)\n",
    "    labels = batch[2].to(device)\n",
    "    \n",
    "    model = BertForSequenceClassification.from_pretrained(\n",
    "            \"bert-base-uncased\", \n",
    "            num_labels = 2,                     \n",
    "            output_attentions = False, \n",
    "            output_hidden_states = False, \n",
    "                )\n",
    "    \n",
    "    optimizer = AdamW(model.parameters(),\n",
    "                      lr=5e-5,    # Default learning rate\n",
    "                      eps=1e-8    # Default epsilon value\n",
    "                      )\n",
    "    model.zero_grad()\n",
    "    \n",
    "    loss,logits = model(input_ids,atten_masks,labels=labels)\n",
    "    \n",
    "    print(logits)"
   ]
  },
  {
   "cell_type": "code",
   "execution_count": null,
   "id": "0a1eccee",
   "metadata": {},
   "outputs": [],
   "source": []
  }
 ],
 "metadata": {
  "kernelspec": {
   "display_name": "Python 3",
   "language": "python",
   "name": "python3"
  },
  "language_info": {
   "codemirror_mode": {
    "name": "ipython",
    "version": 3
   },
   "file_extension": ".py",
   "mimetype": "text/x-python",
   "name": "python",
   "nbconvert_exporter": "python",
   "pygments_lexer": "ipython3",
   "version": "3.8.8"
  }
 },
 "nbformat": 4,
 "nbformat_minor": 5
}
